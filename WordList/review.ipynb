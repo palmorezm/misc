{
 "cells": [
  {
   "attachments": {},
   "cell_type": "markdown",
   "metadata": {},
   "source": [
    "Let's review the data we collected. \n",
    "It should be a list of words that contain a u as their second letter and should contain about 1000 words. "
   ]
  },
  {
   "cell_type": "code",
   "execution_count": 7,
   "metadata": {},
   "outputs": [
    {
     "name": "stdout",
     "output_type": "stream",
     "text": [
      "6855\n"
     ]
    }
   ],
   "source": [
    "with open('word_list.txt', 'r') as file:\n",
    "    data = file.read()\n",
    "print(len(data))"
   ]
  },
  {
   "attachments": {},
   "cell_type": "markdown",
   "metadata": {},
   "source": [
    "\n",
    "Since we expect there to be hundreds of words, this is longer than expected. \n",
    "We can read each line in the string and pull the words as they are written in word_list.txt"
   ]
  },
  {
   "cell_type": "code",
   "execution_count": 17,
   "metadata": {},
   "outputs": [
    {
     "data": {
      "text/plain": [
       "1142"
      ]
     },
     "execution_count": 17,
     "metadata": {},
     "output_type": "execute_result"
    }
   ],
   "source": [
    "words = open('word_list.txt', 'r')\n",
    "words = words.readlines()\n",
    "len(words)"
   ]
  },
  {
   "attachments": {},
   "cell_type": "markdown",
   "metadata": {},
   "source": [
    "That is much closer to our expected result. Now, let's look at the words themselves. "
   ]
  },
  {
   "cell_type": "code",
   "execution_count": 18,
   "metadata": {},
   "outputs": [
    {
     "data": {
      "text/plain": [
       "['\\n', 'GAMING\\n', 'TV & MOVIES\\n', 'TABLETOP\\n', 'WWE\\n', 'audad\\n']"
      ]
     },
     "execution_count": 18,
     "metadata": {},
     "output_type": "execute_result"
    }
   ],
   "source": [
    "words[:6]"
   ]
  },
  {
   "attachments": {},
   "cell_type": "markdown",
   "metadata": {},
   "source": [
    "Our first few lines were entries that are not part of our words of interest because they do not contain a 'u' as their second letter. \n",
    "However, we notice that the list of words we want starts at after the first 5 lines. \n",
    "We subset to include only the words of interest. \n",
    "We also check the end of the list to see if there is any junk there too. "
   ]
  },
  {
   "cell_type": "code",
   "execution_count": 21,
   "metadata": {},
   "outputs": [
    {
     "data": {
      "text/plain": [
       "['yuzus\\n', 'zulus\\n', 'zupan\\n', 'zupas\\n', 'zurfs\\n', 'zuzim\\n']"
      ]
     },
     "execution_count": 21,
     "metadata": {},
     "output_type": "execute_result"
    }
   ],
   "source": [
    "# Create list of desired words\n",
    "words = words[6:len(words)] \n",
    "\n",
    "# Check the end of the word list\n",
    "words[len(words)-6:len(words)]"
   ]
  },
  {
   "attachments": {},
   "cell_type": "markdown",
   "metadata": {},
   "source": [
    "We are looking good at the start and end of the word list. \n",
    "This gives us a good word bank to work with. \n",
    "Let's look at a random sample of our words. "
   ]
  },
  {
   "cell_type": "code",
   "execution_count": 75,
   "metadata": {},
   "outputs": [
    {
     "name": "stdout",
     "output_type": "stream",
     "text": [
      "10 random words include: ['murky\\n', 'query\\n', 'tunny\\n', 'kutch\\n', 'hules\\n', 'murry\\n', 'kutis\\n', 'muggs\\n', 'fuzil\\n', 'tunas\\n']\n"
     ]
    }
   ],
   "source": [
    "# Get the sample function from random module\n",
    "from random import sample\n",
    "# Set sample size\n",
    "sample_size = 10\n",
    "# Take sample from words of that size \n",
    "s = sample(words, k=sample_size)\n",
    "# Print the results\n",
    "print(sample_size, \"random words include:\", s)"
   ]
  },
  {
   "attachments": {},
   "cell_type": "markdown",
   "metadata": {},
   "source": [
    "After running it a few times, it looks like we have a bunch of words that are of interest to us (letter u is the second letter of each word)\n",
    "We can also remove the \\n from the list so that we can read the words in print() statement more clearly. "
   ]
  },
  {
   "cell_type": "code",
   "execution_count": 78,
   "metadata": {},
   "outputs": [
    {
     "data": {
      "text/plain": [
       "\"['murky', 'query', 'tunny', 'kutch', 'hules', 'murry', 'kutis', 'muggs', 'fuzil', 'tunas']\""
      ]
     },
     "execution_count": 78,
     "metadata": {},
     "output_type": "execute_result"
    }
   ],
   "source": [
    "# Convert the word list to a string \n",
    "s = str(s) \n",
    "s.replace(\"\\\\n\", \"\") # replace new line with empty argument"
   ]
  },
  {
   "cell_type": "markdown",
   "metadata": {},
   "source": []
  }
 ],
 "metadata": {
  "kernelspec": {
   "display_name": ".venv",
   "language": "python",
   "name": "python3"
  },
  "language_info": {
   "codemirror_mode": {
    "name": "ipython",
    "version": 3
   },
   "file_extension": ".py",
   "mimetype": "text/x-python",
   "name": "python",
   "nbconvert_exporter": "python",
   "pygments_lexer": "ipython3",
   "version": "3.10.0"
  },
  "orig_nbformat": 4
 },
 "nbformat": 4,
 "nbformat_minor": 2
}
